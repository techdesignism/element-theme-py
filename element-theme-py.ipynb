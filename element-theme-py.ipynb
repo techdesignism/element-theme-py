{
 "cells": [
  {
   "cell_type": "code",
   "execution_count": 1,
   "id": "2ded9213",
   "metadata": {},
   "outputs": [],
   "source": [
    "from os import listdir\n",
    "from os.path import isfile, join\n",
    "import os\n",
    "\n",
    "path = \"./theme-chalk/\"\n",
    "new_path = \"./theme-deep/\"\n",
    "try:\n",
    "    os.mkdir(new_path)\n",
    "except:\n",
    "    pass\n",
    "cssf = [f for f in listdir(path) if isfile(join(path, f))]"
   ]
  },
  {
   "cell_type": "code",
   "execution_count": 2,
   "id": "1842e75b",
   "metadata": {},
   "outputs": [],
   "source": [
    "#new color==============================\n",
    "primary = \"#1B9CFC\"\n",
    "success = \"#67C23A\"\n",
    "warning = \"#E6A23C\"\n",
    "danger = \"#EA2027\""
   ]
  },
  {
   "cell_type": "code",
   "execution_count": 3,
   "id": "05a101e8",
   "metadata": {},
   "outputs": [],
   "source": [
    "#original color===========================\n",
    "ori_primary = \"#409EFF\" \n",
    "ori_success = \"#67C23A\" \n",
    "ori_warning = \"#E6A23C\" \n",
    "ori_danger = \"#F56C6C\"  \n",
    "\n",
    "#l1\n",
    "ori_primary_l1 = \"#D9ECFF\" \n",
    "ori_success_l1 = \"#E1F3D8\" \n",
    "ori_warning_l1 = \"#FAECD8\" \n",
    "ori_danger_l1 = \"#FDE2E2\"\n",
    "\n",
    "#l2\n",
    "ori_primary_l2 = \"#ECF5FF\" \n",
    "ori_success_l2 = \"#F0F9EB\" \n",
    "ori_warning_l2 = \"#FDF6EC\" \n",
    "ori_danger_l2 = \"#FEF0F0\""
   ]
  },
  {
   "cell_type": "code",
   "execution_count": 4,
   "id": "30333324",
   "metadata": {},
   "outputs": [],
   "source": [
    "def hex2rgb(x):\n",
    "    temp_str = x.replace('#','')\n",
    "    return [ int(temp_str[0:2],16)/255, int(temp_str[2:4],16)/255, int(temp_str[4:6],16)/255 ]\n",
    "\n",
    "def rgb2hex(x):\n",
    "    return str(hex(int(x[0]*255))).replace('0x','') + str(hex(int(x[1]*255))).replace('0x','') + str(hex(int(x[2]*255))).replace('0x','')\n",
    "\n",
    "def make_rgb_transparent(rgb, alpha, bg_rgb=[1, 1, 1]):\n",
    "    return [alpha * c1 + (1 - alpha) * c2 for (c1, c2) in zip(rgb, bg_rgb)]\n",
    "\n",
    "def cal_l1(x):\n",
    "    temp_color = x\n",
    "    return ( '#'+rgb2hex(make_rgb_transparent(hex2rgb(temp_color) , 0.195)).upper() )\n",
    "def cal_l2(x):\n",
    "    temp_color = x\n",
    "    return ( '#'+rgb2hex(make_rgb_transparent(hex2rgb(temp_color) , 0.095)).upper() )\n"
   ]
  },
  {
   "cell_type": "code",
   "execution_count": 5,
   "id": "7840d892",
   "metadata": {},
   "outputs": [],
   "source": [
    "primary_l12 = [cal_l1(primary),cal_l2(primary)]\n",
    "success_l12 = [cal_l1(success),cal_l2(success)]\n",
    "warning_l12 = [cal_l1(warning),cal_l2(warning)]\n",
    "danger_l12 = [cal_l1(danger),cal_l2(danger)]"
   ]
  },
  {
   "cell_type": "code",
   "execution_count": 6,
   "id": "4b6fe9f4",
   "metadata": {
    "scrolled": true
   },
   "outputs": [
    {
     "name": "stdout",
     "output_type": "stream",
     "text": [
      "Done. Remember to copy the \"fonts\" folder to the new theme folder\n"
     ]
    }
   ],
   "source": [
    "for file in cssf:\n",
    "    f = open(path+file, \"r\")\n",
    "    ori_file = f.read()\n",
    "    \n",
    "    new_file = ori_file.replace(ori_primary.lower(),primary.lower()).replace(ori_primary,primary)\n",
    "    new_file = new_file.replace(ori_success.lower(),success.lower()).replace(ori_success,success)\n",
    "    new_file = new_file.replace(ori_warning.lower(),warning.lower()).replace(ori_warning,warning)\n",
    "    new_file = new_file.replace(ori_danger.lower(),danger.lower()).replace(ori_danger,danger)\n",
    "    \n",
    "    #l1 and l2===============\n",
    "    new_file = new_file.replace(ori_primary_l1.lower(),cal_l1(ori_primary_l1).lower()).replace(ori_primary_l1,cal_l1(ori_primary_l1))\n",
    "    new_file = new_file.replace(ori_success_l1.lower(),cal_l1(ori_success_l1).lower()).replace(ori_success_l1,cal_l1(ori_success_l1))\n",
    "    new_file = new_file.replace(ori_warning_l1.lower(),cal_l1(ori_warning_l1).lower()).replace(ori_warning_l1,cal_l1(ori_warning_l1))\n",
    "    new_file = new_file.replace(ori_danger_l1.lower(),cal_l1(ori_danger_l1).lower()).replace(ori_danger_l1,cal_l1(ori_danger_l1))\n",
    "    \n",
    "    new_file = new_file.replace(ori_primary_l2.lower(),cal_l2(ori_primary_l2).lower()).replace(ori_primary_l2,cal_l2(ori_primary_l2))\n",
    "    new_file = new_file.replace(ori_success_l2.lower(),cal_l2(ori_success_l2).lower()).replace(ori_success_l2,cal_l2(ori_success_l2))\n",
    "    new_file = new_file.replace(ori_warning_l2.lower(),cal_l2(ori_warning_l2).lower()).replace(ori_warning_l2,cal_l2(ori_warning_l2))\n",
    "    new_file = new_file.replace(ori_danger_l2.lower(),cal_l2(ori_danger_l2).lower()).replace(ori_danger_l2,cal_l2(ori_danger_l2))\n",
    "    \n",
    "    f = open(new_path+file, \"a\")\n",
    "    f.write(new_file)\n",
    "    f.close()\n",
    "print('Done. Remember to copy the \"fonts\" folder to the new theme folder')"
   ]
  },
  {
   "cell_type": "code",
   "execution_count": null,
   "id": "c1109db5",
   "metadata": {},
   "outputs": [],
   "source": []
  },
  {
   "cell_type": "code",
   "execution_count": null,
   "id": "8f853f16",
   "metadata": {},
   "outputs": [],
   "source": []
  }
 ],
 "metadata": {
  "kernelspec": {
   "display_name": "Python 3 (ipykernel)",
   "language": "python",
   "name": "python3"
  },
  "language_info": {
   "codemirror_mode": {
    "name": "ipython",
    "version": 3
   },
   "file_extension": ".py",
   "mimetype": "text/x-python",
   "name": "python",
   "nbconvert_exporter": "python",
   "pygments_lexer": "ipython3",
   "version": "3.9.13"
  }
 },
 "nbformat": 4,
 "nbformat_minor": 5
}
