{
 "cells": [
  {
   "cell_type": "code",
   "execution_count": 1,
   "id": "2ded9213",
   "metadata": {},
   "outputs": [],
   "source": [
    "from os import listdir\n",
    "from os.path import isfile, join\n",
    "import os\n",
    "\n",
    "path = \"./theme-chalk/\"\n",
    "new_path = \"./theme-deep/\"\n",
    "try:\n",
    "    os.mkdir(new_path)\n",
    "except:\n",
    "    pass\n",
    "cssf = [f for f in listdir(path) if isfile(join(path, f))]"
   ]
  },
  {
   "cell_type": "code",
   "execution_count": 2,
   "id": "05a101e8",
   "metadata": {},
   "outputs": [],
   "source": [
    "ori_primary = \"#409EFF\"\n",
    "ori_success = \"#67C23A\"\n",
    "ori_warning = \"#E6A23C\"\n",
    "ori_danger = \"#F56C6C\"\n",
    "\n",
    "primary = \"#1B9CFC\"\n",
    "success = \"#67C23A\"\n",
    "warning = \"#E6A23C\"\n",
    "danger = \"#EA2027\"\n"
   ]
  },
  {
   "cell_type": "code",
   "execution_count": 3,
   "id": "4b6fe9f4",
   "metadata": {
    "scrolled": true
   },
   "outputs": [
    {
     "name": "stdout",
     "output_type": "stream",
     "text": [
      "Done. Remember to copy the \"fonts\" folder to the new theme folder\n"
     ]
    }
   ],
   "source": [
    "for file in cssf:\n",
    "    f = open(path+file, \"r\")\n",
    "    ori_file = f.read()\n",
    "    \n",
    "    new_file = ori_file.replace(ori_primary.lower(),primary.lower()).replace(ori_primary,primary)\n",
    "    new_file = new_file.replace(ori_success.lower(),success.lower()).replace(ori_success,success)\n",
    "    new_file = new_file.replace(ori_warning.lower(),warning.lower()).replace(ori_warning,warning)\n",
    "    new_file = new_file.replace(ori_danger.lower(),danger.lower()).replace(ori_danger,danger)\n",
    "    \n",
    "    #print(new_file)\n",
    "    f = open(new_path+file, \"a\")\n",
    "    f.write(new_file)\n",
    "    f.close()\n",
    "print('Done. Remember to copy the \"fonts\" folder to the new theme folder')"
   ]
  },
  {
   "cell_type": "code",
   "execution_count": null,
   "id": "c1109db5",
   "metadata": {},
   "outputs": [],
   "source": []
  },
  {
   "cell_type": "code",
   "execution_count": null,
   "id": "8f853f16",
   "metadata": {},
   "outputs": [],
   "source": []
  }
 ],
 "metadata": {
  "kernelspec": {
   "display_name": "Python 3 (ipykernel)",
   "language": "python",
   "name": "python3"
  },
  "language_info": {
   "codemirror_mode": {
    "name": "ipython",
    "version": 3
   },
   "file_extension": ".py",
   "mimetype": "text/x-python",
   "name": "python",
   "nbconvert_exporter": "python",
   "pygments_lexer": "ipython3",
   "version": "3.9.13"
  }
 },
 "nbformat": 4,
 "nbformat_minor": 5
}
